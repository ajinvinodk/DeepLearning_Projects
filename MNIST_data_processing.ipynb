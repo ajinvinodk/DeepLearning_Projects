{
  "nbformat": 4,
  "nbformat_minor": 0,
  "metadata": {
    "colab": {
      "name": "MNIST data processing.ipynb",
      "provenance": [],
      "collapsed_sections": []
    },
    "kernelspec": {
      "name": "python3",
      "display_name": "Python 3"
    },
    "language_info": {
      "name": "python"
    }
  },
  "cells": [
    {
      "cell_type": "code",
      "source": [
        "from google.colab import drive\n",
        "drive.mount('/content/drive')"
      ],
      "metadata": {
        "id": "JraoD3Pj0Bkb"
      },
      "execution_count": null,
      "outputs": []
    },
    {
      "cell_type": "code",
      "source": [
        "import os\n",
        "import cv2\n",
        "import numpy as np\n",
        "from keras.utils import np_utils"
      ],
      "metadata": {
        "id": "RDC2bui05v0s"
      },
      "execution_count": null,
      "outputs": []
    },
    {
      "cell_type": "code",
      "execution_count": null,
      "metadata": {
        "id": "4zj04D3Jyw_l"
      },
      "outputs": [],
      "source": [
        "def image_read(path):\n",
        "    files=os.listdir(path)\n",
        "    images=[]\n",
        "    images_flatten=[]\n",
        "    for image in files:\n",
        "        im_read=cv2.imread(path+'/'+image,0) # Flag = 0, to read as gray scale image\n",
        "        images.append(im_read)\n",
        "        flat = im_read.flatten()\n",
        "        images_flatten.append(flat)\n",
        "    return images, images_flatten"
      ]
    },
    {
      "cell_type": "code",
      "source": [
        "path_2_train = r'/content/drive/MyDrive/Colab Notebooks/CS671/Assignment_2/Group_9/train/2'\n",
        "images_2_train, images_2_flatten_train = image_read(path_2_train)\n",
        "\n",
        "path_4_train = r'/content/drive/MyDrive/Colab Notebooks/CS671/Assignment_2/Group_9/train/4'\n",
        "images_4_train, images_4_flatten_train = image_read(path_4_train)\n",
        "\n",
        "path_6_train = r'/content/drive/MyDrive/Colab Notebooks/CS671/Assignment_2/Group_9/train/6'\n",
        "images_6_train, images_6_flatten_train = image_read(path_6_train)\n",
        "\n",
        "path_7_train = r'/content/drive/MyDrive/Colab Notebooks/CS671/Assignment_2/Group_9/train/7'\n",
        "images_7_train, images_7_flatten_train = image_read(path_7_train)\n",
        "\n",
        "path_8_train = r'/content/drive/MyDrive/Colab Notebooks/CS671/Assignment_2/Group_9/train/8'\n",
        "images_8_train, images_8_flatten_train = image_read(path_8_train)\n",
        "\n",
        "class_2_label_train = np.repeat(0, len(images_2_train))\n",
        "class_4_label_train = np.repeat(1, len(images_4_train))\n",
        "class_6_label_train = np.repeat(2, len(images_6_train))\n",
        "class_7_label_train = np.repeat(3, len(images_7_train))\n",
        "class_8_label_train = np.repeat(4, len(images_8_train))"
      ],
      "metadata": {
        "id": "ixbUryoqzdUw"
      },
      "execution_count": null,
      "outputs": []
    },
    {
      "cell_type": "code",
      "source": [
        "X_train = np.concatenate((images_2_flatten_train, images_4_flatten_train, images_6_flatten_train, images_7_flatten_train, images_8_flatten_train))\n",
        "np.save('/content/drive/MyDrive/Colab Notebooks/CS671/Assignment_2/X_train', X_train)\n",
        "\n",
        "train_label = np.concatenate((class_2_label_train, class_4_label_train, class_6_label_train, class_7_label_train, class_8_label_train))\n",
        "y_train = np_utils.to_categorical(train_label, 5)\n",
        "np.save('/content/drive/MyDrive/Colab Notebooks/CS671/Assignment_2/y_train', y_train)"
      ],
      "metadata": {
        "id": "LxX26dwbzdoY"
      },
      "execution_count": null,
      "outputs": []
    },
    {
      "cell_type": "code",
      "source": [
        "path_2_test = r'/content/drive/MyDrive/Colab Notebooks/CS671/Assignment_2/Group_9/test/2'\n",
        "images_2_test, images_2_flatten_test = image_read(path_2_test)\n",
        "\n",
        "path_4_test = r'/content/drive/MyDrive/Colab Notebooks/CS671/Assignment_2/Group_9/test/4'\n",
        "images_4_test, images_4_flatten_test = image_read(path_4_test)\n",
        "\n",
        "path_6_test = r'/content/drive/MyDrive/Colab Notebooks/CS671/Assignment_2/Group_9/test/6'\n",
        "images_6_test, images_6_flatten_test = image_read(path_6_test)\n",
        "\n",
        "path_7_test = r'/content/drive/MyDrive/Colab Notebooks/CS671/Assignment_2/Group_9/test/7'\n",
        "images_7_test, images_7_flatten_test = image_read(path_7_test)\n",
        "\n",
        "path_8_test = r'/content/drive/MyDrive/Colab Notebooks/CS671/Assignment_2/Group_9/test/8'\n",
        "images_8_test, images_8_flatten_test = image_read(path_8_test)\n",
        "\n",
        "class_2_label_test = np.repeat(0, len(images_2_test))\n",
        "class_4_label_test = np.repeat(1, len(images_4_test))\n",
        "class_6_label_test = np.repeat(2, len(images_6_test))\n",
        "class_7_label_test = np.repeat(3, len(images_7_test))\n",
        "class_8_label_test = np.repeat(4, len(images_8_test))"
      ],
      "metadata": {
        "id": "UGDdA2fTzeJJ"
      },
      "execution_count": null,
      "outputs": []
    },
    {
      "cell_type": "code",
      "source": [
        "X_test = np.concatenate((images_2_flatten_test, images_4_flatten_test, images_6_flatten_test, images_7_flatten_test, images_8_flatten_test))\n",
        "np.save('/content/drive/MyDrive/Colab Notebooks/CS671/Assignment_2/X_test', X_test)\n",
        "\n",
        "test_label = np.concatenate((class_2_label_test, class_4_label_test, class_6_label_test, class_7_label_test, class_8_label_test))\n",
        "y_test = np_utils.to_categorical(test_label, 5)\n",
        "np.save('/content/drive/MyDrive/Colab Notebooks/CS671/Assignment_2/y_test', y_test)"
      ],
      "metadata": {
        "id": "oN3xrW02zeZZ"
      },
      "execution_count": null,
      "outputs": []
    },
    {
      "cell_type": "code",
      "source": [
        "path_2_validation = r'/content/drive/MyDrive/Colab Notebooks/CS671/Assignment_2/Group_9/val/2'\n",
        "images_2_validation, images_2_flatten_validation = image_read(path_2_validation)\n",
        "\n",
        "path_4_validation = r'/content/drive/MyDrive/Colab Notebooks/CS671/Assignment_2/Group_9/val/4'\n",
        "images_4_validation, images_4_flatten_validation = image_read(path_4_validation)\n",
        "\n",
        "path_6_validation = r'/content/drive/MyDrive/Colab Notebooks/CS671/Assignment_2/Group_9/val/6'\n",
        "images_6_validation, images_6_flatten_validation = image_read(path_6_validation)\n",
        "\n",
        "path_7_validation = r'/content/drive/MyDrive/Colab Notebooks/CS671/Assignment_2/Group_9/val/7'\n",
        "images_7_validation, images_7_flatten_validation = image_read(path_7_validation)\n",
        "\n",
        "path_8_validation = r'/content/drive/MyDrive/Colab Notebooks/CS671/Assignment_2/Group_9/val/8'\n",
        "images_8_validation, images_8_flatten_validation = image_read(path_8_validation)\n",
        "\n",
        "class_2_label_validation = np.repeat(0, len(images_2_validation))\n",
        "class_4_label_validation = np.repeat(1, len(images_4_validation))\n",
        "class_6_label_validation = np.repeat(2, len(images_6_validation))\n",
        "class_7_label_validation = np.repeat(3, len(images_7_validation))\n",
        "class_8_label_validation = np.repeat(4, len(images_8_validation))"
      ],
      "metadata": {
        "id": "k9uRFGnbzevK"
      },
      "execution_count": null,
      "outputs": []
    },
    {
      "cell_type": "code",
      "source": [
        "X_validation = np.concatenate((images_2_flatten_validation, images_4_flatten_validation, images_6_flatten_validation, images_7_flatten_validation, images_8_flatten_validation))\n",
        "np.save('/content/drive/MyDrive/Colab Notebooks/CS671/Assignment_2/X_validation', X_validation)\n",
        "\n",
        "validation_label = np.concatenate((class_2_label_validation, class_4_label_validation, class_6_label_validation, class_7_label_validation, class_8_label_validation))\n",
        "y_validation = np_utils.to_categorical(validation_label, 5)\n",
        "np.save('/content/drive/MyDrive/Colab Notebooks/CS671/Assignment_2/y_validation', y_validation)"
      ],
      "metadata": {
        "id": "kyEFesscze8Q"
      },
      "execution_count": null,
      "outputs": []
    }
  ]
}